{
 "cells": [
  {
   "cell_type": "code",
   "execution_count": 4,
   "id": "878d0bef-44ef-417f-9858-1feee6e5238c",
   "metadata": {},
   "outputs": [],
   "source": [
    "import pandas as pd\n",
    "from nba_api.stats.endpoints import playercareerstats\n",
    "from nba_api.stats.static import players    \n",
    "import plotly.graph_objects as go"
   ]
  },
  {
   "cell_type": "code",
   "execution_count": 5,
   "id": "3c8b9849-06d0-491b-8f44-28d331efad26",
   "metadata": {},
   "outputs": [],
   "source": [
    "# Function to get list of player names\n",
    "def get_all_players():\n",
    "    player_dicts = players.get_players()\n",
    "    player_names = [player['full_name'] for player in player_dicts]\n",
    "\n",
    "    return (player_names)"
   ]
  },
  {
   "cell_type": "code",
   "execution_count": 26,
   "id": "a4ffd114-f856-4df0-a448-0d739b9aba08",
   "metadata": {},
   "outputs": [],
   "source": [
    "# Function to get player ID using player name\n",
    "def get_player_id(player_name):\n",
    "    player_dict = players.find_players_by_full_name(player_name)\n",
    "    if player_dict:\n",
    "        return player_dict[0]['id']\n",
    "    else:\n",
    "        raise ValueError(f\"No player found with the name {player_name}\")\n"
   ]
  },
  {
   "cell_type": "code",
   "execution_count": 27,
   "id": "00cbf676-353e-4fa5-8cb2-1584f9413f83",
   "metadata": {},
   "outputs": [
    {
     "ename": "SyntaxError",
     "evalue": "incomplete input (3687736041.py, line 11)",
     "output_type": "error",
     "traceback": [
      "\u001b[0;36m  Cell \u001b[0;32mIn[27], line 11\u001b[0;36m\u001b[0m\n\u001b[0;31m    \u001b[0m\n\u001b[0m    ^\u001b[0m\n\u001b[0;31mSyntaxError\u001b[0m\u001b[0;31m:\u001b[0m incomplete input\n"
     ]
    }
   ],
   "source": [
    "# Function to get career stats and clean the data\n",
    "def get_clean_career_stats(player_id):\n",
    "    career = playercareerstats.PlayerCareerStats(player_id = player_id)\n",
    "    career_df = career.get_data_frames()[0]\n",
    "    career_df = career_df[career_df['SEASON_ID'].str[:4].astype(int) <= pd.Timestamp.now().year]\n",
    "\n",
    "    return career_df\n",
    "\n",
    "print (get_clean_career_stats(get_player_id('Stephen Curry'))\n",
    "\n",
    "\n"
   ]
  },
  {
   "cell_type": "code",
   "execution_count": 23,
   "id": "3c9f14c2-f44d-4a39-b0f2-3b7e17a18f61",
   "metadata": {},
   "outputs": [
    {
     "ename": "NameError",
     "evalue": "name 'get_career_stats' is not defined",
     "output_type": "error",
     "traceback": [
      "\u001b[0;31m---------------------------------------------------------------------------\u001b[0m",
      "\u001b[0;31mNameError\u001b[0m                                 Traceback (most recent call last)",
      "Cell \u001b[0;32mIn[23], line 18\u001b[0m\n\u001b[1;32m      7\u001b[0m     avg_stats \u001b[38;5;241m=\u001b[39m {\n\u001b[1;32m      8\u001b[0m         \u001b[38;5;124m'\u001b[39m\u001b[38;5;124mPTS/G\u001b[39m\u001b[38;5;124m'\u001b[39m: \u001b[38;5;28mround\u001b[39m(career_df[\u001b[38;5;124m'\u001b[39m\u001b[38;5;124mPTS/G\u001b[39m\u001b[38;5;124m'\u001b[39m]\u001b[38;5;241m.\u001b[39mmean(),\u001b[38;5;241m2\u001b[39m),\n\u001b[1;32m      9\u001b[0m         \u001b[38;5;124m'\u001b[39m\u001b[38;5;124mAST/G\u001b[39m\u001b[38;5;124m'\u001b[39m: \u001b[38;5;28mround\u001b[39m(career_df[\u001b[38;5;124m'\u001b[39m\u001b[38;5;124mAST/G\u001b[39m\u001b[38;5;124m'\u001b[39m]\u001b[38;5;241m.\u001b[39mmean(), \u001b[38;5;241m2\u001b[39m),\n\u001b[0;32m   (...)\u001b[0m\n\u001b[1;32m     14\u001b[0m         \u001b[38;5;124m'\u001b[39m\u001b[38;5;124mBLK/G\u001b[39m\u001b[38;5;124m'\u001b[39m: \u001b[38;5;28mround\u001b[39m(career_df[\u001b[38;5;124m'\u001b[39m\u001b[38;5;124mBLK/G\u001b[39m\u001b[38;5;124m'\u001b[39m]\u001b[38;5;241m.\u001b[39mmean(),\u001b[38;5;241m2\u001b[39m)\n\u001b[1;32m     15\u001b[0m     }\n\u001b[1;32m     16\u001b[0m     \u001b[38;5;28;01mreturn\u001b[39;00m avg_stats\n\u001b[0;32m---> 18\u001b[0m \u001b[38;5;28mprint\u001b[39m(calculate_average_stats((\u001b[43mget_career_stats\u001b[49m(get_player_id(\u001b[38;5;124m'\u001b[39m\u001b[38;5;124mStephen Curry\u001b[39m\u001b[38;5;124m'\u001b[39m)))))\n",
      "\u001b[0;31mNameError\u001b[0m: name 'get_career_stats' is not defined"
     ]
    }
   ],
   "source": [
    "def calculate_average_stats(career_df):\n",
    "    career_df['PTS/G'] = career_df['PTS'] / career_df['GP']\n",
    "    career_df['AST/G'] = career_df['AST'] / career_df['GP']\n",
    "    career_df['REB/G'] = career_df['REB'] / career_df['GP']\n",
    "    career_df['STL/G'] = career_df['STL'] / career_df['GP']\n",
    "    career_df['BLK/G'] = career_df['BLK'] / career_df['GP']\n",
    "    avg_stats = {\n",
    "        'PTS/G': round(career_df['PTS/G'].mean(),2),\n",
    "        'AST/G': round(career_df['AST/G'].mean(), 2),\n",
    "        'REB/G': round(career_df['REB/G'].mean(),2),\n",
    "        'FT_PCT': round(career_df['FT_PCT'].mean(),2),\n",
    "        'FG3_PCT': round(career_df['FG3_PCT'].mean(),2),\n",
    "        'STL/G': round(career_df['STL/G'].mean(),2),\n",
    "        'BLK/G': round(career_df['BLK/G'].mean(),2)\n",
    "    }\n",
    "    return avg_stats\n",
    "    \n",
    "print(calculate_average_stats((get_career_stats(get_player_id('Stephen Curry')))))\n",
    "    "
   ]
  },
  {
   "cell_type": "code",
   "execution_count": null,
   "id": "92933d2f-4136-46a3-b38a-03b743f1a916",
   "metadata": {},
   "outputs": [],
   "source": [
    "def display_comparison(player1_name, player1_stats, player2_name, player2_stats):\n",
    "    print(f\"\\nComparison of {player1_name} vs {player2_name}:\")\n",
    "    print(f\"{'Stat':<15}{player1_name:<15}{player2_name:<15}\")\n",
    "    print(f\"{'-'*45}\")\n",
    "    print(f\"{'Points':<15}{player1_stats['points']:<15}{player2_stats['points']:<15}\")\n",
    "    print(f\"{'Assists':<15}{player1_stats['assists']:<15}{player2_stats['assists']:<15}\")\n",
    "    print(f\"{'Rebounds':<15}{player1_stats['rebounds']:<15}{player2_stats['rebounds']:<15}\")\n",
    "    print(f\"{'FG%':<15}{player1_stats['fg_percentage']:<15}{player2_stats['fg_percentage']:<15}\")"
   ]
  },
  {
   "cell_type": "code",
   "execution_count": null,
   "id": "33f0c015-350d-494b-87c6-cc034ab852e9",
   "metadata": {},
   "outputs": [],
   "source": [
    "player1_name = input(\"Enter the first player's name: \")\n",
    "player2_name = input(\"Enter the second player's name: \")\n",
    "\n",
    "player1_id = get_player_id(player1_name)\n",
    "player2_id = get_player_id(player2_name)\n",
    "\n",
    "if player1_id and player2_id:\n",
    "    player1_stats = get_player_stats(player1_id)\n",
    "    player2_stats = get_player_stats(player2_id)"
   ]
  },
  {
   "cell_type": "code",
   "execution_count": null,
   "id": "be2ad415-cc01-4c34-88fd-776788c7af60",
   "metadata": {},
   "outputs": [],
   "source": []
  }
 ],
 "metadata": {
  "kernelspec": {
   "display_name": "Python 3 (ipykernel)",
   "language": "python",
   "name": "python3"
  },
  "language_info": {
   "codemirror_mode": {
    "name": "ipython",
    "version": 3
   },
   "file_extension": ".py",
   "mimetype": "text/x-python",
   "name": "python",
   "nbconvert_exporter": "python",
   "pygments_lexer": "ipython3",
   "version": "3.11.5"
  }
 },
 "nbformat": 4,
 "nbformat_minor": 5
}
