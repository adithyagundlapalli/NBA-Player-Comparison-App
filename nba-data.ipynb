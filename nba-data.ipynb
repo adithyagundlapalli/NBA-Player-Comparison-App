{
 "cells": [
  {
   "cell_type": "code",
   "execution_count": 4,
   "id": "878d0bef-44ef-417f-9858-1feee6e5238c",
   "metadata": {},
   "outputs": [],
   "source": [
    "import pandas as pd\n",
    "from nba_api.stats.endpoints import playercareerstats\n",
    "from nba_api.stats.static import players    \n",
    "import plotly.graph_objects as go"
   ]
  },
  {
   "cell_type": "code",
   "execution_count": 5,
   "id": "3c8b9849-06d0-491b-8f44-28d331efad26",
   "metadata": {},
   "outputs": [],
   "source": [
    "# Function to get list of player names\n",
    "def get_all_players():\n",
    "    player_dicts = players.get_players()\n",
    "    player_names = [player['full_name'] for player in player_dicts]\n",
    "\n",
    "    return (player_names)"
   ]
  },
  {
   "cell_type": "code",
   "execution_count": 26,
   "id": "a4ffd114-f856-4df0-a448-0d739b9aba08",
   "metadata": {},
   "outputs": [],
   "source": [
    "# Function to get player ID using player name\n",
    "def get_player_id(player_name):\n",
    "    player_dict = players.find_players_by_full_name(player_name)\n",
    "    if player_dict:\n",
    "        return player_dict[0]['id']\n",
    "    else:\n",
    "        raise ValueError(f\"No player found with the name {player_name}\")\n"
   ]
  },
  {
   "cell_type": "code",
   "execution_count": 36,
   "id": "00cbf676-353e-4fa5-8cb2-1584f9413f83",
   "metadata": {},
   "outputs": [
    {
     "name": "stdout",
     "output_type": "stream",
     "text": [
      "    PLAYER_ID SEASON_ID LEAGUE_ID     TEAM_ID TEAM_ABBREVIATION  PLAYER_AGE  \\\n",
      "0      201939   2009-10        00  1610612744               GSW        22.0   \n",
      "1      201939   2010-11        00  1610612744               GSW        23.0   \n",
      "2      201939   2011-12        00  1610612744               GSW        24.0   \n",
      "3      201939   2012-13        00  1610612744               GSW        25.0   \n",
      "4      201939   2013-14        00  1610612744               GSW        26.0   \n",
      "5      201939   2014-15        00  1610612744               GSW        27.0   \n",
      "6      201939   2015-16        00  1610612744               GSW        28.0   \n",
      "7      201939   2016-17        00  1610612744               GSW        29.0   \n",
      "8      201939   2017-18        00  1610612744               GSW        30.0   \n",
      "9      201939   2018-19        00  1610612744               GSW        31.0   \n",
      "10     201939   2019-20        00  1610612744               GSW        32.0   \n",
      "11     201939   2020-21        00  1610612744               GSW        33.0   \n",
      "12     201939   2021-22        00  1610612744               GSW        34.0   \n",
      "13     201939   2022-23        00  1610612744               GSW        35.0   \n",
      "14     201939   2023-24        00  1610612744               GSW        36.0   \n",
      "\n",
      "    GP  GS     MIN  FGM  ...  FT_PCT  OREB  DREB  REB  AST  STL  BLK  TOV  \\\n",
      "0   80  77  2896.0  528  ...   0.885    48   308  356  472  152   19  243   \n",
      "1   74  74  2489.0  505  ...   0.934    52   234  286  432  109   20  226   \n",
      "2   26  23   732.0  145  ...   0.809    15    73   88  138   39    8   65   \n",
      "3   78  78  2983.0  626  ...   0.900    59   255  314  539  126   12  240   \n",
      "4   78  78  2846.0  652  ...   0.885    46   288  334  666  128   14  294   \n",
      "5   80  80  2613.0  653  ...   0.914    56   285  341  619  163   16  249   \n",
      "6   79  79  2700.0  805  ...   0.908    68   362  430  527  169   15  262   \n",
      "7   79  79  2639.0  675  ...   0.898    61   292  353  524  142   17  239   \n",
      "8   51  51  1631.0  428  ...   0.921    36   225  261  310   80    8  153   \n",
      "9   69  69  2331.0  632  ...   0.916    45   324  369  361   92   25  192   \n",
      "10   5   5   139.0   33  ...   1.000     4    22   26   33    5    2   16   \n",
      "11  63  63  2152.0  658  ...   0.916    29   316  345  363   77    8  213   \n",
      "12  64  64  2211.0  535  ...   0.923    34   301  335  404   85   23  206   \n",
      "13  56  56  1941.0  559  ...   0.915    39   302  341  352   52   20  179   \n",
      "14  74  74  2422.0  650  ...   0.923    37   293  330  379   54   28  210   \n",
      "\n",
      "     PF   PTS  \n",
      "0   252  1399  \n",
      "1   233  1373  \n",
      "2    62   383  \n",
      "3   198  1786  \n",
      "4   194  1873  \n",
      "5   158  1900  \n",
      "6   161  2375  \n",
      "7   183  1999  \n",
      "8   114  1346  \n",
      "9   166  1881  \n",
      "10   11   104  \n",
      "11  119  2015  \n",
      "12  130  1630  \n",
      "13  117  1648  \n",
      "14  117  1956  \n",
      "\n",
      "[15 rows x 27 columns]\n"
     ]
    }
   ],
   "source": [
    "# Function to get career stats and clean the data\n",
    "def get_career_stats(player_id):\n",
    "    career = playercareerstats.PlayerCareerStats(player_id = player_id)\n",
    "    career_df = career.get_data_frames()[0]\n",
    "    career_df = career_df[career_df['SEASON_ID'].str[:4].astype(int) <= pd.Timestamp.now().year]\n",
    "\n",
    "    return career_df\n",
    "\n",
    "print(get_career_stats(get_player_id('Stephen Curry')))\n",
    "\n",
    "\n"
   ]
  },
  {
   "cell_type": "code",
   "execution_count": 37,
   "id": "3c9f14c2-f44d-4a39-b0f2-3b7e17a18f61",
   "metadata": {},
   "outputs": [
    {
     "name": "stdout",
     "output_type": "stream",
     "text": [
      "{'PTS/G': 24.3, 'AST/G': 6.33, 'REB/G': 4.74, 'FT_PCT': 0.91, 'FG3_PCT': 0.42, 'STL/G': 1.48, 'BLK/G': 0.26}\n"
     ]
    }
   ],
   "source": [
    "def calculate_average_stats(career_df):\n",
    "    career_df['PTS/G'] = career_df['PTS'] / career_df['GP']\n",
    "    career_df['AST/G'] = career_df['AST'] / career_df['GP']\n",
    "    career_df['REB/G'] = career_df['REB'] / career_df['GP']\n",
    "    career_df['STL/G'] = career_df['STL'] / career_df['GP']\n",
    "    career_df['BLK/G'] = career_df['BLK'] / career_df['GP']\n",
    "    avg_stats = {\n",
    "        'PTS/G': round(career_df['PTS/G'].mean(),2),\n",
    "        'AST/G': round(career_df['AST/G'].mean(), 2),\n",
    "        'REB/G': round(career_df['REB/G'].mean(),2),\n",
    "        'FT_PCT': round(career_df['FT_PCT'].mean(),2),\n",
    "        'FG3_PCT': round(career_df['FG3_PCT'].mean(),2),\n",
    "        'STL/G': round(career_df['STL/G'].mean(),2),\n",
    "        'BLK/G': round(career_df['BLK/G'].mean(),2)\n",
    "    }\n",
    "    return avg_stats\n",
    "    \n",
    "print(calculate_average_stats((get_career_stats(get_player_id('Stephen Curry')))))\n",
    "    "
   ]
  },
  {
   "cell_type": "code",
   "execution_count": 43,
   "id": "92933d2f-4136-46a3-b38a-03b743f1a916",
   "metadata": {},
   "outputs": [],
   "source": [
    "def display_comparison(player1_name, player1_averages, player2_name, player2_averages):\n",
    "    print(f\"\\nComparison of {player1_name} vs {player2_name}:\")\n",
    "    print(f\"{'Stat':<15}{player1_name:<15}{player2_name:<15}\")\n",
    "    print(f\"{'-'*45}\")\n",
    "    print(f\"{'Points':<15}{player1_averages['PTS/G']:<15}{player2_averages['PTS/G']:<15}\")\n",
    "    print(f\"{'Assists':<15}{player1_averages['AST/G']:<15}{player2_averages['AST/G']:<15}\")\n",
    "    print(f\"{'Rebounds':<15}{player1_averages['REB/G']:<15}{player2_averages['REB/G']:<15}\")\n",
    "    print(f\"{'FT%':<15}{player1_averages['FT_PCT']:<15}{player2_averages['FT_PCT']:<15}\")\n",
    "    print(f\"{'3P%':<15}{player1_averages['FG3_PCT']:<15}{player2_averages['FG3_PCT']:<15}\")\n",
    "    print(f\"{'Steals':<15}{player1_averages['STL/G']:<15}{player2_averages['STL/G']:<15}\")\n",
    "    print(f\"{'Blocks':<15}{player1_averages['BLK/G']:<15}{player2_averages['BLK/G']:<15}\")"
   ]
  },
  {
   "cell_type": "code",
   "execution_count": 44,
   "id": "33f0c015-350d-494b-87c6-cc034ab852e9",
   "metadata": {},
   "outputs": [
    {
     "name": "stdin",
     "output_type": "stream",
     "text": [
      "Enter the first player's name:  Giannis\n",
      "Enter the second player's name:  Luka\n"
     ]
    },
    {
     "name": "stdout",
     "output_type": "stream",
     "text": [
      "\n",
      "Comparison of Giannis vs Luka:\n",
      "Stat           Giannis        Luka           \n",
      "---------------------------------------------\n",
      "Points         23.9           28.74          \n",
      "Assists        4.95           8.32           \n",
      "Rebounds       9.95           8.7            \n",
      "FT%            0.7            0.75           \n",
      "3P%            0.28           0.34           \n",
      "Steals         1.13           1.16           \n",
      "Blocks         1.23           0.45           \n"
     ]
    }
   ],
   "source": [
    "player1_name = input(\"Enter the first player's name: \")\n",
    "player2_name = input(\"Enter the second player's name: \")\n",
    "\n",
    "player1_id = get_player_id(player1_name)\n",
    "player2_id = get_player_id(player2_name)\n",
    "\n",
    "if player1_id and player2_id:\n",
    "    player1_stats = get_career_stats(player1_id)\n",
    "    player2_stats = get_career_stats(player2_id)\n",
    "\n",
    "    player1_averages = calculate_average_stats(player1_stats)\n",
    "    player2_averages = calculate_average_stats(player2_stats)\n",
    "\n",
    "display_comparison(player1_name, player1_averages, player2_name, player2_averages)\n",
    "\n"
   ]
  },
  {
   "cell_type": "code",
   "execution_count": null,
   "id": "be2ad415-cc01-4c34-88fd-776788c7af60",
   "metadata": {},
   "outputs": [],
   "source": []
  }
 ],
 "metadata": {
  "kernelspec": {
   "display_name": "Python 3 (ipykernel)",
   "language": "python",
   "name": "python3"
  },
  "language_info": {
   "codemirror_mode": {
    "name": "ipython",
    "version": 3
   },
   "file_extension": ".py",
   "mimetype": "text/x-python",
   "name": "python",
   "nbconvert_exporter": "python",
   "pygments_lexer": "ipython3",
   "version": "3.11.5"
  }
 },
 "nbformat": 4,
 "nbformat_minor": 5
}
